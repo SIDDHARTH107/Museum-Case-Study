{
 "cells": [
  {
   "cell_type": "code",
   "execution_count": 15,
   "id": "6dcd9a4c",
   "metadata": {},
   "outputs": [],
   "source": [
    "import pandas as pd\n",
    "from sqlalchemy import create_engine"
   ]
  },
  {
   "cell_type": "code",
   "execution_count": 19,
   "id": "37129be7",
   "metadata": {},
   "outputs": [],
   "source": [
    "# Defining a connection string to the Postgres Database\n",
    "conn_string = \"postgresql://postgres:<Your_Password>@localhost/painting\"\n",
    "db = create_engine(conn_string)\n",
    "conn = db.connect()"
   ]
  },
  {
   "cell_type": "code",
   "execution_count": 20,
   "id": "e5cf0a8d",
   "metadata": {},
   "outputs": [
    {
     "data": {
      "text/html": [
       "<div>\n",
       "<style scoped>\n",
       "    .dataframe tbody tr th:only-of-type {\n",
       "        vertical-align: middle;\n",
       "    }\n",
       "\n",
       "    .dataframe tbody tr th {\n",
       "        vertical-align: top;\n",
       "    }\n",
       "\n",
       "    .dataframe thead th {\n",
       "        text-align: right;\n",
       "    }\n",
       "</style>\n",
       "<table border=\"1\" class=\"dataframe\">\n",
       "  <thead>\n",
       "    <tr style=\"text-align: right;\">\n",
       "      <th></th>\n",
       "      <th>artist_id</th>\n",
       "      <th>full_name</th>\n",
       "      <th>first_name</th>\n",
       "      <th>middle_names</th>\n",
       "      <th>last_name</th>\n",
       "      <th>nationality</th>\n",
       "      <th>style</th>\n",
       "      <th>birth</th>\n",
       "      <th>death</th>\n",
       "    </tr>\n",
       "  </thead>\n",
       "  <tbody>\n",
       "    <tr>\n",
       "      <th>0</th>\n",
       "      <td>500</td>\n",
       "      <td>Pierre-Auguste Renoir</td>\n",
       "      <td>Pierre</td>\n",
       "      <td>Auguste</td>\n",
       "      <td>Renoir</td>\n",
       "      <td>French</td>\n",
       "      <td>Impressionist</td>\n",
       "      <td>1841</td>\n",
       "      <td>1919</td>\n",
       "    </tr>\n",
       "    <tr>\n",
       "      <th>1</th>\n",
       "      <td>501</td>\n",
       "      <td>Alexandre Cabanel</td>\n",
       "      <td>Alexandre</td>\n",
       "      <td>NaN</td>\n",
       "      <td>Cabanel</td>\n",
       "      <td>French</td>\n",
       "      <td>Classicist</td>\n",
       "      <td>1823</td>\n",
       "      <td>1889</td>\n",
       "    </tr>\n",
       "    <tr>\n",
       "      <th>2</th>\n",
       "      <td>502</td>\n",
       "      <td>James Ensor</td>\n",
       "      <td>James</td>\n",
       "      <td>NaN</td>\n",
       "      <td>Ensor</td>\n",
       "      <td>Belgian</td>\n",
       "      <td>Expressionist</td>\n",
       "      <td>1860</td>\n",
       "      <td>1949</td>\n",
       "    </tr>\n",
       "    <tr>\n",
       "      <th>3</th>\n",
       "      <td>503</td>\n",
       "      <td>Maximilien Luce</td>\n",
       "      <td>Maximilien</td>\n",
       "      <td>NaN</td>\n",
       "      <td>Luce</td>\n",
       "      <td>French</td>\n",
       "      <td>Pointillist</td>\n",
       "      <td>1858</td>\n",
       "      <td>1941</td>\n",
       "    </tr>\n",
       "    <tr>\n",
       "      <th>4</th>\n",
       "      <td>504</td>\n",
       "      <td>August Macke</td>\n",
       "      <td>August</td>\n",
       "      <td>NaN</td>\n",
       "      <td>Macke</td>\n",
       "      <td>German</td>\n",
       "      <td>Expressionist</td>\n",
       "      <td>1887</td>\n",
       "      <td>1914</td>\n",
       "    </tr>\n",
       "  </tbody>\n",
       "</table>\n",
       "</div>"
      ],
      "text/plain": [
       "   artist_id              full_name  first_name middle_names last_name  \\\n",
       "0        500  Pierre-Auguste Renoir      Pierre      Auguste    Renoir   \n",
       "1        501      Alexandre Cabanel   Alexandre          NaN   Cabanel   \n",
       "2        502            James Ensor       James          NaN     Ensor   \n",
       "3        503        Maximilien Luce  Maximilien          NaN      Luce   \n",
       "4        504           August Macke      August          NaN     Macke   \n",
       "\n",
       "  nationality          style  birth  death  \n",
       "0      French  Impressionist   1841   1919  \n",
       "1      French     Classicist   1823   1889  \n",
       "2     Belgian  Expressionist   1860   1949  \n",
       "3      French    Pointillist   1858   1941  \n",
       "4      German  Expressionist   1887   1914  "
      ]
     },
     "execution_count": 20,
     "metadata": {},
     "output_type": "execute_result"
    }
   ],
   "source": [
    "# Loading all the csv files\n",
    "df = pd.read_csv(r\"C:\\Users\\siddh\\Downloads\\SQL Case Study\\artist.csv\")\n",
    "df.head()"
   ]
  },
  {
   "cell_type": "code",
   "execution_count": 21,
   "id": "bc272398",
   "metadata": {},
   "outputs": [
    {
     "data": {
      "text/plain": [
       "421"
      ]
     },
     "execution_count": 21,
     "metadata": {},
     "output_type": "execute_result"
    }
   ],
   "source": [
    "# Loading into sql db\n",
    "df.to_sql('artist',\n",
    "          con=conn,\n",
    "          if_exists='replace',\n",
    "          index=False)"
   ]
  },
  {
   "cell_type": "code",
   "execution_count": 22,
   "id": "3f4c0176",
   "metadata": {},
   "outputs": [],
   "source": [
    "# Creating a list array and loop to dump all the csv files into the database\n",
    "csv_files = ['artist',\n",
    "             'canvas_size',\n",
    "             'work',\n",
    "             'subject',\n",
    "             'product_size',\n",
    "             'museum_hours',\n",
    "             'museum',\n",
    "             'image_link']\n",
    "\n",
    "for file in csv_files:\n",
    "    df = pd.read_csv(rf\"C:\\Users\\siddh\\Downloads\\SQL Case Study\\{file}.csv\")\n",
    "    # Loading into sql db\n",
    "    df.to_sql(file,\n",
    "              con=conn,\n",
    "              if_exists='replace',\n",
    "              index=False)"
   ]
  },
  {
   "cell_type": "code",
   "execution_count": null,
   "id": "d8e91366",
   "metadata": {},
   "outputs": [],
   "source": []
  }
 ],
 "metadata": {
  "kernelspec": {
   "display_name": "venv",
   "language": "python",
   "name": "python3"
  },
  "language_info": {
   "codemirror_mode": {
    "name": "ipython",
    "version": 3
   },
   "file_extension": ".py",
   "mimetype": "text/x-python",
   "name": "python",
   "nbconvert_exporter": "python",
   "pygments_lexer": "ipython3",
   "version": "3.13.3"
  }
 },
 "nbformat": 4,
 "nbformat_minor": 5
}
